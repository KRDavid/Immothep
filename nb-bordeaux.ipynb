{
 "metadata": {
  "language_info": {
   "codemirror_mode": {
    "name": "ipython",
    "version": 3
   },
   "file_extension": ".py",
   "mimetype": "text/x-python",
   "name": "python",
   "nbconvert_exporter": "python",
   "pygments_lexer": "ipython3",
   "version": "3.7.6-final"
  },
  "orig_nbformat": 2,
  "kernelspec": {
   "name": "Python 3.7.6 64-bit ('base': conda)",
   "display_name": "Python 3.7.6 64-bit ('base': conda)",
   "metadata": {
    "interpreter": {
     "hash": "b57b0ba709768a7bbbc5b5f9f052a7cbe42e1ac711dd327dca942e98c95c92b1"
    }
   }
  }
 },
 "nbformat": 4,
 "nbformat_minor": 2,
 "cells": [
  {
   "source": [
    "Je vais analyser seulement la ville de Bordeaux parce qu'il y a un gros volume de vente. "
   ],
   "cell_type": "markdown",
   "metadata": {}
  },
  {
   "cell_type": "code",
   "execution_count": null,
   "metadata": {},
   "outputs": [],
   "source": [
    "# IPython extension reloading modules before user enters code.\n",
    "%load_ext autoreload\n",
    "%autoreload 2\n",
    "\n",
    "import numpy as np\n",
    "import pandas as pd\n",
    "import matplotlib.pyplot as plt\n",
    "import seaborn as sns \n",
    "from sklearn.model_selection import train_test_split\n",
    "from sklearn.preprocessing import StandardScaler\n",
    "from sklearn.ensemble import RandomForestRegressor\n",
    "from sklearn import metrics\n",
    "%matplotlib inline\n",
    "\n",
    "from functions import split"
   ]
  },
  {
   "cell_type": "code",
   "execution_count": null,
   "metadata": {},
   "outputs": [],
   "source": [
    "df0 = pd.read_csv('./data/RAW/valeursfoncieres-2019.txt', decimal = ',', sep = '|')"
   ]
  },
  {
   "cell_type": "code",
   "execution_count": null,
   "metadata": {},
   "outputs": [],
   "source": [
    "df0.columns.tolist()"
   ]
  },
  {
   "cell_type": "code",
   "execution_count": null,
   "metadata": {},
   "outputs": [],
   "source": [
    "df0 = df0.drop(columns = ['Code service CH',\n",
    " 'Reference document',\n",
    " '1 Articles CGI',\n",
    " '2 Articles CGI',\n",
    " '3 Articles CGI',\n",
    " '4 Articles CGI',\n",
    " '5 Articles CGI',\n",
    " 'No disposition',\n",
    " 'Date mutation',\n",
    " 'No voie',\n",
    " 'B/T/Q',\n",
    " 'Type de voie',\n",
    " 'Code voie',\n",
    " 'Voie',\n",
    " 'Code departement',\n",
    " 'Code commune',\n",
    " 'Prefixe de section',\n",
    " 'Section',\n",
    " 'No plan',\n",
    " 'No Volume',\n",
    " '1er lot',\n",
    " 'Surface Carrez du 1er lot',\n",
    " '2eme lot',\n",
    " 'Surface Carrez du 2eme lot',\n",
    " '3eme lot',\n",
    " 'Surface Carrez du 3eme lot',\n",
    " '4eme lot',\n",
    " 'Surface Carrez du 4eme lot',\n",
    " '5eme lot',\n",
    " 'Surface Carrez du 5eme lot',\n",
    " 'Nombre de lots',\n",
    " 'Code type local',\n",
    " 'Identifiant local',\n",
    " 'Nature culture',\n",
    " 'Nature culture speciale'])"
   ]
  },
  {
   "cell_type": "code",
   "execution_count": 76,
   "metadata": {},
   "outputs": [],
   "source": [
    "df = df0.copy()   "
   ]
  },
  {
   "cell_type": "code",
   "execution_count": 77,
   "metadata": {},
   "outputs": [],
   "source": [
    "def preprocessing(df):\n",
    "    df = df.drop_duplicates()\n",
    "    df = df.dropna(subset = ['Type local'])\n",
    "    df = df[df['Type local'].isin(['Maison','Appartement'])]\n",
    "    df['Valeur fonciere']  = df['Valeur fonciere'].astype(float)\n",
    "    df = df[df['Commune'].isin(['BORDEAUX'])]\n",
    "    df = df[df['Nature mutation'].isin(['Vente'])]\n",
    "    df = df.dropna(subset = ['Code postal', 'Valeur fonciere'])\n",
    "    df = df[df[\"Surface reelle bati\"] > 8]\n",
    "    df = df[df[\"Nombre pieces principales\"] >= 1]\n",
    "    df = df.fillna(0)\n",
    "\n",
    "    return df"
   ]
  },
  {
   "cell_type": "code",
   "execution_count": 78,
   "metadata": {},
   "outputs": [],
   "source": [
    "df  = preprocessing(df)"
   ]
  },
  {
   "cell_type": "code",
   "execution_count": 79,
   "metadata": {},
   "outputs": [],
   "source": [
    "df = df.drop(columns = ['Nature mutation', 'Commune'])"
   ]
  },
  {
   "cell_type": "code",
   "execution_count": 81,
   "metadata": {},
   "outputs": [],
   "source": [
    "df = df.to_csv('./data/CURATED/csv_clean_bordeaux.csv')"
   ]
  },
  {
   "cell_type": "code",
   "execution_count": 82,
   "metadata": {},
   "outputs": [],
   "source": [
    "df_bordeaux = pd.read_csv('./data/CURATED/csv_clean_bordeaux.csv')\n",
    "df_bordeaux_anomaly = pd.read_csv('./data/CURATED/anomaly_csv_clean_bordeaux.csv')"
   ]
  },
  {
   "cell_type": "code",
   "execution_count": null,
   "metadata": {},
   "outputs": [],
   "source": []
  }
 ]
}