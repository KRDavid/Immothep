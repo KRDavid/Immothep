{
 "metadata": {
  "language_info": {
   "codemirror_mode": {
    "name": "ipython",
    "version": 3
   },
   "file_extension": ".py",
   "mimetype": "text/x-python",
   "name": "python",
   "nbconvert_exporter": "python",
   "pygments_lexer": "ipython3",
   "version": "3.8.5-final"
  },
  "orig_nbformat": 2,
  "kernelspec": {
   "name": "Python 3.8.5 64-bit ('Immothep': conda)",
   "display_name": "Python 3.8.5 64-bit ('Immothep': conda)",
   "metadata": {
    "interpreter": {
     "hash": "22fed763e287d136d8c8c56abfa1d7bbf91080c9799d115ba5df76d910457d83"
    }
   }
  }
 },
 "nbformat": 4,
 "nbformat_minor": 2,
 "cells": [
  {
   "cell_type": "code",
   "execution_count": 1,
   "metadata": {},
   "outputs": [],
   "source": [
    "%load_ext autoreload\n",
    "%autoreload 2"
   ]
  },
  {
   "cell_type": "code",
   "execution_count": 1,
   "metadata": {
    "tags": []
   },
   "outputs": [
    {
     "output_type": "stream",
     "name": "stdout",
     "text": "Split fichier valeursfoncieres-2019.txt terminé\n"
    }
   ],
   "source": [
    "from functions import split\n",
    "\n",
    "splitter_object = split.Splitter(\"./data\", \"|\")\n",
    "\n",
    "splitter_object.file_splitter(\"valeursfoncieres-2019.txt\", \"Nombre pieces principales\", \"vfoncieres_splitted\")"
   ]
  },
  {
   "cell_type": "code",
   "execution_count": 12,
   "metadata": {},
   "outputs": [
    {
     "output_type": "error",
     "ename": "ModuleNotFoundError",
     "evalue": "No module named &#39;seaborn&#39;",
     "traceback": [
      "\u001b[1;31m---------------------------------------------------------------------------\u001b[0m",
      "\u001b[1;31mModuleNotFoundError\u001b[0m                       Traceback (most recent call last)",
      "\u001b[1;32m&lt;ipython-input-12-95ddb9ba324f&gt;\u001b[0m in \u001b[0;36m&lt;module&gt;\u001b[1;34m\u001b[0m\n\u001b[0;32m      2\u001b[0m \u001b[1;32mimport\u001b[0m \u001b[0mmatplotlib\u001b[0m\u001b[1;33m.\u001b[0m\u001b[0mpyplot\u001b[0m \u001b[1;32mas\u001b[0m \u001b[0mplt\u001b[0m\u001b[1;33m\u001b[0m\u001b[1;33m\u001b[0m\u001b[0m\n\u001b[0;32m      3\u001b[0m \u001b[1;32mimport\u001b[0m \u001b[0mpandas\u001b[0m \u001b[1;32mas\u001b[0m \u001b[0mpd\u001b[0m\u001b[1;33m\u001b[0m\u001b[1;33m\u001b[0m\u001b[0m\n\u001b[1;32m----&gt; 4\u001b[1;33m \u001b[1;32mimport\u001b[0m \u001b[0mseaborn\u001b[0m \u001b[1;32mas\u001b[0m \u001b[0msns\u001b[0m\u001b[1;33m\u001b[0m\u001b[1;33m\u001b[0m\u001b[0m\n\u001b[0m\u001b[0;32m      5\u001b[0m \u001b[0mget_ipython\u001b[0m\u001b[1;33m(\u001b[0m\u001b[1;33m)\u001b[0m\u001b[1;33m.\u001b[0m\u001b[0mrun_line_magic\u001b[0m\u001b[1;33m(\u001b[0m\u001b[1;34m&#39;matplotlib&#39;\u001b[0m\u001b[1;33m,\u001b[0m \u001b[1;34m&#39;inline&#39;\u001b[0m\u001b[1;33m)\u001b[0m\u001b[1;33m\u001b[0m\u001b[1;33m\u001b[0m\u001b[0m\n",
      "\u001b[1;31mModuleNotFoundError\u001b[0m: No module named &#39;seaborn&#39;"
     ]
    }
   ],
   "source": [
    "import numpy as np\n",
    "import matplotlib.pyplot as plt \n",
    "import pandas as pd\n",
    "import seaborn as sns \n",
    "%matplotlib inline"
   ]
  },
  {
   "cell_type": "code",
   "execution_count": 1,
   "metadata": {},
   "outputs": [
    {
     "output_type": "error",
     "ename": "NameError",
     "evalue": "name &#39;pd&#39; is not defined",
     "traceback": [
      "\u001b[1;31m---------------------------------------------------------------------------\u001b[0m",
      "\u001b[1;31mNameError\u001b[0m                                 Traceback (most recent call last)",
      "\u001b[1;32m&lt;ipython-input-1-a77e771cd6dd&gt;\u001b[0m in \u001b[0;36m&lt;module&gt;\u001b[1;34m\u001b[0m\n\u001b[1;32m----&gt; 1\u001b[1;33m \u001b[0mcsv\u001b[0m \u001b[1;33m=\u001b[0m \u001b[0mpd\u001b[0m\u001b[1;33m.\u001b[0m\u001b[0mread_csv\u001b[0m\u001b[1;33m(\u001b[0m\u001b[1;34m&quot;./data/RAW/valeursfoncieres-2019.txt&quot;\u001b[0m\u001b[1;33m,\u001b[0m \u001b[0msep\u001b[0m \u001b[1;33m=\u001b[0m \u001b[1;34m&#39;|&#39;\u001b[0m\u001b[1;33m,\u001b[0m \u001b[0mdecimal\u001b[0m \u001b[1;33m=\u001b[0m \u001b[1;34m&#39;,&#39;\u001b[0m\u001b[1;33m,\u001b[0m \u001b[0musecols\u001b[0m \u001b[1;33m=\u001b[0m \u001b[1;33m[\u001b[0m\u001b[1;34m&#39;Nature mutation&#39;\u001b[0m\u001b[1;33m,\u001b[0m \u001b[1;34m&#39;Valeur fonciere&#39;\u001b[0m\u001b[1;33m,\u001b[0m \u001b[1;34m&#39;Code postal&#39;\u001b[0m\u001b[1;33m,\u001b[0m \u001b[1;34m&#39;Surface Carrez du 1er lot&#39;\u001b[0m\u001b[1;33m,\u001b[0m \u001b[1;34m&#39;Surface Carrez du 2eme lot&#39;\u001b[0m\u001b[1;33m,\u001b[0m \u001b[1;34m&#39;Surface Carrez du 3eme lot&#39;\u001b[0m\u001b[1;33m,\u001b[0m \u001b[1;34m&#39;Surface Carrez du 4eme lot&#39;\u001b[0m\u001b[1;33m,\u001b[0m \u001b[1;34m&#39;Surface Carrez du 5eme lot&#39;\u001b[0m\u001b[1;33m,\u001b[0m \u001b[1;34m&#39;Nombre de lots&#39;\u001b[0m\u001b[1;33m,\u001b[0m \u001b[1;34m&#39;Type local&#39;\u001b[0m\u001b[1;33m,\u001b[0m \u001b[1;34m&#39;Nombre pieces principales&#39;\u001b[0m\u001b[1;33m,\u001b[0m \u001b[1;34m&quot;Surface terrain&quot;\u001b[0m\u001b[1;33m,\u001b[0m \u001b[1;34m&quot;Surface reelle bati&quot;\u001b[0m\u001b[1;33m]\u001b[0m\u001b[1;33m)\u001b[0m\u001b[1;33m\u001b[0m\u001b[1;33m\u001b[0m\u001b[0m\n\u001b[0m",
      "\u001b[1;31mNameError\u001b[0m: name &#39;pd&#39; is not defined"
     ]
    }
   ],
   "source": [
    "csv = pd.read_csv(\"./data/RAW/valeursfoncieres-2019.txt\", sep = '|', decimal = ',', usecols = ['Nature mutation', 'Valeur fonciere', 'Code postal', 'Surface Carrez du 1er lot', 'Surface Carrez du 2eme lot', 'Surface Carrez du 3eme lot', 'Surface Carrez du 4eme lot', 'Surface Carrez du 5eme lot', 'Nombre de lots', 'Type local', 'Nombre pieces principales', \"Surface terrain\", \"Surface reelle bati\"])"
   ]
  },
  {
   "cell_type": "code",
   "execution_count": null,
   "metadata": {},
   "outputs": [],
   "source": [
    "csv = csv[[\"Valeur fonciere\", \"Code postal\",\"Nombre de lots\", \"Surface Carrez du 1er lot\", \"Surface Carrez du 2eme lot\", \"Surface Carrez du 3eme lot\", \"Surface Carrez du 4eme lot\", \"Surface Carrez du 5eme lot\", \"Nombre pieces principales\", \"Surface terrain\", \"Type local\", \"Surface reelle bati\"]][csv[\"Nature mutation\"].str.contains(\"Vente\", regex=True)]"
   ]
  },
  {
   "cell_type": "code",
   "execution_count": null,
   "metadata": {},
   "outputs": [],
   "source": [
    "csv = csv.dropna(subset=[\"Type local\"])"
   ]
  },
  {
   "cell_type": "code",
   "execution_count": null,
   "metadata": {},
   "outputs": [],
   "source": [
    "csv = csv[[\"Valeur fonciere\", \"Code postal\",\"Nombre de lots\", \"Surface Carrez du 1er lot\", \"Surface Carrez du 2eme lot\", \"Surface Carrez du 3eme lot\", \"Surface Carrez du 4eme lot\", \"Surface Carrez du 5eme lot\", \"Nombre pieces principales\", \"Surface terrain\", \"Surface reelle bati\"]][csv[\"Type local\"].str.contains(\"Appartement|Maison\", regex=True)]"
   ]
  },
  {
   "cell_type": "code",
   "execution_count": null,
   "metadata": {},
   "outputs": [],
   "source": [
    "csv[\"Carrez total\"] = csv[[\"Surface Carrez du 1er lot\", \"Surface Carrez du 2eme lot\", \"Surface Carrez du 3eme lot\", \"Surface Carrez du 4eme lot\", \"Surface Carrez du 5eme lot\"]].sum(axis=1)"
   ]
  },
  {
   "cell_type": "code",
   "execution_count": null,
   "metadata": {},
   "outputs": [],
   "source": [
    "csv2 = csv.drop(columns=[\"Surface Carrez du 1er lot\", \"Surface Carrez du 2eme lot\", \"Surface Carrez du 3eme lot\", \"Surface Carrez du 4eme lot\", \"Surface Carrez du 5eme lot\"])"
   ]
  },
  {
   "cell_type": "code",
   "execution_count": null,
   "metadata": {},
   "outputs": [],
   "source": [
    "csv2 = csv2.dropna(subset=['Valeur fonciere'])\n",
    "csv2 = csv2.dropna(subset=['Code postal'])\n",
    "csv2 = csv2.dropna(subset=['Carrez total'])\n",
    "csv2 = csv2.dropna(subset=['Surface reelle bati'])\n",
    "csv2 = csv2[csv2[\"Nombre de lots\"] < 6]\n",
    "csv2 = csv2[csv2[\"Nombre pieces principales\"] != 0]\n",
    "csv2 = csv2[csv2[\"Surface reelle bati\"] > 8]\n",
    "csv3 = csv2.fillna(0)"
   ]
  },
  {
   "cell_type": "code",
   "execution_count": null,
   "metadata": {},
   "outputs": [],
   "source": [
    "csv3.to_csv(\"./data/CURATED/CSV_CLEAN_1.csv\")\n",
    "csv3"
   ]
  },
  {
   "cell_type": "code",
   "execution_count": null,
   "metadata": {},
   "outputs": [],
   "source": []
  },
  {
   "cell_type": "code",
   "execution_count": 10,
   "metadata": {},
   "outputs": [
    {
     "output_type": "error",
     "ename": "NameError",
     "evalue": "name &#39;csv3&#39; is not defined",
     "traceback": [
      "\u001b[1;31m---------------------------------------------------------------------------\u001b[0m",
      "\u001b[1;31mNameError\u001b[0m                                 Traceback (most recent call last)",
      "\u001b[1;32m&lt;ipython-input-10-5758444c87df&gt;\u001b[0m in \u001b[0;36m&lt;module&gt;\u001b[1;34m\u001b[0m\n\u001b[1;32m----&gt; 1\u001b[1;33m \u001b[0mmatrice_corr\u001b[0m \u001b[1;33m=\u001b[0m \u001b[0mcsv3\u001b[0m\u001b[1;33m.\u001b[0m\u001b[0mcorr\u001b[0m\u001b[1;33m(\u001b[0m\u001b[1;33m)\u001b[0m\u001b[1;33m.\u001b[0m\u001b[0mround\u001b[0m\u001b[1;33m(\u001b[0m\u001b[1;36m1\u001b[0m\u001b[1;33m)\u001b[0m\u001b[1;33m\u001b[0m\u001b[1;33m\u001b[0m\u001b[0m\n\u001b[0m\u001b[0;32m      2\u001b[0m \u001b[0msns\u001b[0m\u001b[1;33m.\u001b[0m\u001b[0mheatmap\u001b[0m\u001b[1;33m(\u001b[0m\u001b[0mdata\u001b[0m\u001b[1;33m=\u001b[0m\u001b[0mmatrice_corr\u001b[0m\u001b[1;33m,\u001b[0m \u001b[0mannot\u001b[0m\u001b[1;33m=\u001b[0m\u001b[1;32mTrue\u001b[0m\u001b[1;33m)\u001b[0m\u001b[1;33m\u001b[0m\u001b[1;33m\u001b[0m\u001b[0m\n",
      "\u001b[1;31mNameError\u001b[0m: name &#39;csv3&#39; is not defined"
     ]
    }
   ],
   "source": [
    "matrice_corr = csv3.corr().round(1)\n",
    "sns.heatmap(data=matrice_corr, annot=True)"
   ]
  },
  {
   "cell_type": "code",
   "execution_count": null,
   "metadata": {},
   "outputs": [],
   "source": [
    "csv4"
   ]
  },
  {
   "cell_type": "code",
   "execution_count": null,
   "metadata": {},
   "outputs": [],
   "source": []
  }
 ]
}