{
 "metadata": {
  "language_info": {
   "codemirror_mode": {
    "name": "ipython",
    "version": 3
   },
   "file_extension": ".py",
   "mimetype": "text/x-python",
   "name": "python",
   "nbconvert_exporter": "python",
   "pygments_lexer": "ipython3",
   "version": "3.8.5-final"
  },
  "orig_nbformat": 2,
  "kernelspec": {
   "name": "Python 3.8.5 64-bit ('Immothep': conda)",
   "display_name": "Python 3.8.5 64-bit ('Immothep': conda)",
   "metadata": {
    "interpreter": {
     "hash": "22fed763e287d136d8c8c56abfa1d7bbf91080c9799d115ba5df76d910457d83"
    }
   }
  }
 },
 "nbformat": 4,
 "nbformat_minor": 2,
 "cells": [
  {
   "cell_type": "code",
   "execution_count": 1,
   "metadata": {},
   "outputs": [],
   "source": [
    "import numpy as np\n",
    "import pandas as pd\n",
    "import matplotlib.pyplot as plt"
   ]
  },
  {
   "cell_type": "code",
   "execution_count": 2,
   "metadata": {},
   "outputs": [],
   "source": [
    "csv = pd.read_csv(\"./data/RAW/valeursfoncieres-2019.txt\", sep='|')"
   ]
  },
  {
   "cell_type": "code",
   "execution_count": 3,
   "metadata": {},
   "outputs": [],
   "source": [
    "csv.drop(columns=[\"Code service CH\", \"Reference document\", \"1 Articles CGI\", \"2 Articles CGI\", \"3 Articles CGI\", \"4 Articles CGI\", \"5 Articles CGI\", \"No disposition\", \"Identifiant local\", \"Nature culture speciale\"], inplace=True)"
   ]
  },
  {
   "cell_type": "code",
   "execution_count": 4,
   "metadata": {
    "tags": []
   },
   "outputs": [
    {
     "output_type": "stream",
     "name": "stdout",
     "text": "Split fichier valeursfoncieres-2019.txt terminé\n"
    }
   ],
   "source": [
    "from functions import split\n",
    "\n",
    "splitter_object = split.Splitter(\"./data\", \"|\")\n",
    "\n",
    "splitter_object.file_splitter(\"valeursfoncieres-2019.txt\", \"Nombre pieces principales\", \"vfoncieres_splitted\")"
   ]
  },
  {
   "cell_type": "code",
   "execution_count": 5,
   "metadata": {},
   "outputs": [
    {
     "output_type": "execute_result",
     "data": {
      "text/plain": "        Date mutation Nature mutation Valeur fonciere  No voie B/T/Q  \\\n0          04/01/2019           Vente        37220,00     26.0   NaN   \n1          04/01/2019           Vente       185100,00     22.0   NaN   \n2          04/01/2019           Vente       185100,00     22.0     B   \n3          08/01/2019           Vente       209000,00      3.0   NaN   \n4          07/01/2019           Vente       134900,00      5.0   NaN   \n...               ...             ...             ...      ...   ...   \n2535786    05/12/2019           Vente     17521000,00     32.0   NaN   \n2535787    05/12/2019           Vente     17521000,00     32.0   NaN   \n2535788    10/10/2019    Adjudication       610000,00     12.0   NaN   \n2535789    30/12/2019           Vente      1400000,00     24.0   NaN   \n2535790    30/12/2019           Vente      1400000,00     24.0   NaN   \n\n        Type de voie Code voie             Voie  Code postal  \\\n0                RUE      2730     DE MONTHOLON       1000.0   \n1                RUE      1650  GEN DELESTRAINT       1000.0   \n2                RUE      1650  GEN DELESTRAINT       1000.0   \n3                RUE      0043   DES CHAMPAGNES       1160.0   \n4                LOT      A003        LE BIOLAY       1370.0   \n...              ...       ...              ...          ...   \n2535786         QUAI      0940       DE BETHUNE      75004.0   \n2535787         QUAI      0940       DE BETHUNE      75004.0   \n2535788          RUE      0797     BEAUTREILLIS      75004.0   \n2535789          RUE      8752    SAINT SAUVEUR      75002.0   \n2535790          RUE      8752    SAINT SAUVEUR      75002.0   \n\n                       Commune  ... Surface Carrez du 4eme lot  5eme lot  \\\n0              BOURG-EN-BRESSE  ...                        NaN       NaN   \n1              BOURG-EN-BRESSE  ...                        NaN       NaN   \n2              BOURG-EN-BRESSE  ...                        NaN       NaN   \n3                        PRIAY  ...                        NaN       NaN   \n4        SAINT-ETIENNE-DU-BOIS  ...                        NaN       NaN   \n...                        ...  ...                        ...       ...   \n2535786               PARIS 04  ...                        NaN       NaN   \n2535787               PARIS 04  ...                        NaN       NaN   \n2535788               PARIS 04  ...                        NaN       NaN   \n2535789               PARIS 02  ...                        NaN       NaN   \n2535790               PARIS 02  ...                        NaN       NaN   \n\n         Surface Carrez du 5eme lot Nombre de lots  Code type local  \\\n0                               NaN              1              2.0   \n1                               NaN              2              2.0   \n2                               NaN              1              3.0   \n3                               NaN              0              1.0   \n4                               NaN              0              1.0   \n...                             ...            ...              ...   \n2535786                         NaN              0              2.0   \n2535787                         NaN              0              3.0   \n2535788                         NaN              2              2.0   \n2535789                         NaN              3              4.0   \n2535790                         NaN              2              2.0   \n\n                                       Type local Surface reelle bati  \\\n0                                     Appartement                20.0   \n1                                     Appartement                62.0   \n2                                      Dépendance                 0.0   \n3                                          Maison                90.0   \n4                                          Maison               101.0   \n...                                           ...                 ...   \n2535786                               Appartement               120.0   \n2535787                                Dépendance                 0.0   \n2535788                               Appartement                44.0   \n2535789  Local industriel. commercial ou assimilé               100.0   \n2535790                               Appartement                97.0   \n\n        Nombre pieces principales Nature culture Surface terrain  \n0                             1.0            NaN             NaN  \n1                             3.0            NaN             NaN  \n2                             0.0            NaN             NaN  \n3                             4.0              S           940.0  \n4                             5.0              S           490.0  \n...                           ...            ...             ...  \n2535786                       5.0              S           470.0  \n2535787                       0.0              S           470.0  \n2535788                       2.0            NaN             NaN  \n2535789                       0.0            NaN             NaN  \n2535790                       3.0            NaN             NaN  \n\n[2535791 rows x 33 columns]",
      "text/html": "<div>\n<style scoped>\n    .dataframe tbody tr th:only-of-type {\n        vertical-align: middle;\n    }\n\n    .dataframe tbody tr th {\n        vertical-align: top;\n    }\n\n    .dataframe thead th {\n        text-align: right;\n    }\n</style>\n<table border=\"1\" class=\"dataframe\">\n  <thead>\n    <tr style=\"text-align: right;\">\n      <th></th>\n      <th>Date mutation</th>\n      <th>Nature mutation</th>\n      <th>Valeur fonciere</th>\n      <th>No voie</th>\n      <th>B/T/Q</th>\n      <th>Type de voie</th>\n      <th>Code voie</th>\n      <th>Voie</th>\n      <th>Code postal</th>\n      <th>Commune</th>\n      <th>...</th>\n      <th>Surface Carrez du 4eme lot</th>\n      <th>5eme lot</th>\n      <th>Surface Carrez du 5eme lot</th>\n      <th>Nombre de lots</th>\n      <th>Code type local</th>\n      <th>Type local</th>\n      <th>Surface reelle bati</th>\n      <th>Nombre pieces principales</th>\n      <th>Nature culture</th>\n      <th>Surface terrain</th>\n    </tr>\n  </thead>\n  <tbody>\n    <tr>\n      <th>0</th>\n      <td>04/01/2019</td>\n      <td>Vente</td>\n      <td>37220,00</td>\n      <td>26.0</td>\n      <td>NaN</td>\n      <td>RUE</td>\n      <td>2730</td>\n      <td>DE MONTHOLON</td>\n      <td>1000.0</td>\n      <td>BOURG-EN-BRESSE</td>\n      <td>...</td>\n      <td>NaN</td>\n      <td>NaN</td>\n      <td>NaN</td>\n      <td>1</td>\n      <td>2.0</td>\n      <td>Appartement</td>\n      <td>20.0</td>\n      <td>1.0</td>\n      <td>NaN</td>\n      <td>NaN</td>\n    </tr>\n    <tr>\n      <th>1</th>\n      <td>04/01/2019</td>\n      <td>Vente</td>\n      <td>185100,00</td>\n      <td>22.0</td>\n      <td>NaN</td>\n      <td>RUE</td>\n      <td>1650</td>\n      <td>GEN DELESTRAINT</td>\n      <td>1000.0</td>\n      <td>BOURG-EN-BRESSE</td>\n      <td>...</td>\n      <td>NaN</td>\n      <td>NaN</td>\n      <td>NaN</td>\n      <td>2</td>\n      <td>2.0</td>\n      <td>Appartement</td>\n      <td>62.0</td>\n      <td>3.0</td>\n      <td>NaN</td>\n      <td>NaN</td>\n    </tr>\n    <tr>\n      <th>2</th>\n      <td>04/01/2019</td>\n      <td>Vente</td>\n      <td>185100,00</td>\n      <td>22.0</td>\n      <td>B</td>\n      <td>RUE</td>\n      <td>1650</td>\n      <td>GEN DELESTRAINT</td>\n      <td>1000.0</td>\n      <td>BOURG-EN-BRESSE</td>\n      <td>...</td>\n      <td>NaN</td>\n      <td>NaN</td>\n      <td>NaN</td>\n      <td>1</td>\n      <td>3.0</td>\n      <td>Dépendance</td>\n      <td>0.0</td>\n      <td>0.0</td>\n      <td>NaN</td>\n      <td>NaN</td>\n    </tr>\n    <tr>\n      <th>3</th>\n      <td>08/01/2019</td>\n      <td>Vente</td>\n      <td>209000,00</td>\n      <td>3.0</td>\n      <td>NaN</td>\n      <td>RUE</td>\n      <td>0043</td>\n      <td>DES CHAMPAGNES</td>\n      <td>1160.0</td>\n      <td>PRIAY</td>\n      <td>...</td>\n      <td>NaN</td>\n      <td>NaN</td>\n      <td>NaN</td>\n      <td>0</td>\n      <td>1.0</td>\n      <td>Maison</td>\n      <td>90.0</td>\n      <td>4.0</td>\n      <td>S</td>\n      <td>940.0</td>\n    </tr>\n    <tr>\n      <th>4</th>\n      <td>07/01/2019</td>\n      <td>Vente</td>\n      <td>134900,00</td>\n      <td>5.0</td>\n      <td>NaN</td>\n      <td>LOT</td>\n      <td>A003</td>\n      <td>LE BIOLAY</td>\n      <td>1370.0</td>\n      <td>SAINT-ETIENNE-DU-BOIS</td>\n      <td>...</td>\n      <td>NaN</td>\n      <td>NaN</td>\n      <td>NaN</td>\n      <td>0</td>\n      <td>1.0</td>\n      <td>Maison</td>\n      <td>101.0</td>\n      <td>5.0</td>\n      <td>S</td>\n      <td>490.0</td>\n    </tr>\n    <tr>\n      <th>...</th>\n      <td>...</td>\n      <td>...</td>\n      <td>...</td>\n      <td>...</td>\n      <td>...</td>\n      <td>...</td>\n      <td>...</td>\n      <td>...</td>\n      <td>...</td>\n      <td>...</td>\n      <td>...</td>\n      <td>...</td>\n      <td>...</td>\n      <td>...</td>\n      <td>...</td>\n      <td>...</td>\n      <td>...</td>\n      <td>...</td>\n      <td>...</td>\n      <td>...</td>\n      <td>...</td>\n    </tr>\n    <tr>\n      <th>2535786</th>\n      <td>05/12/2019</td>\n      <td>Vente</td>\n      <td>17521000,00</td>\n      <td>32.0</td>\n      <td>NaN</td>\n      <td>QUAI</td>\n      <td>0940</td>\n      <td>DE BETHUNE</td>\n      <td>75004.0</td>\n      <td>PARIS 04</td>\n      <td>...</td>\n      <td>NaN</td>\n      <td>NaN</td>\n      <td>NaN</td>\n      <td>0</td>\n      <td>2.0</td>\n      <td>Appartement</td>\n      <td>120.0</td>\n      <td>5.0</td>\n      <td>S</td>\n      <td>470.0</td>\n    </tr>\n    <tr>\n      <th>2535787</th>\n      <td>05/12/2019</td>\n      <td>Vente</td>\n      <td>17521000,00</td>\n      <td>32.0</td>\n      <td>NaN</td>\n      <td>QUAI</td>\n      <td>0940</td>\n      <td>DE BETHUNE</td>\n      <td>75004.0</td>\n      <td>PARIS 04</td>\n      <td>...</td>\n      <td>NaN</td>\n      <td>NaN</td>\n      <td>NaN</td>\n      <td>0</td>\n      <td>3.0</td>\n      <td>Dépendance</td>\n      <td>0.0</td>\n      <td>0.0</td>\n      <td>S</td>\n      <td>470.0</td>\n    </tr>\n    <tr>\n      <th>2535788</th>\n      <td>10/10/2019</td>\n      <td>Adjudication</td>\n      <td>610000,00</td>\n      <td>12.0</td>\n      <td>NaN</td>\n      <td>RUE</td>\n      <td>0797</td>\n      <td>BEAUTREILLIS</td>\n      <td>75004.0</td>\n      <td>PARIS 04</td>\n      <td>...</td>\n      <td>NaN</td>\n      <td>NaN</td>\n      <td>NaN</td>\n      <td>2</td>\n      <td>2.0</td>\n      <td>Appartement</td>\n      <td>44.0</td>\n      <td>2.0</td>\n      <td>NaN</td>\n      <td>NaN</td>\n    </tr>\n    <tr>\n      <th>2535789</th>\n      <td>30/12/2019</td>\n      <td>Vente</td>\n      <td>1400000,00</td>\n      <td>24.0</td>\n      <td>NaN</td>\n      <td>RUE</td>\n      <td>8752</td>\n      <td>SAINT SAUVEUR</td>\n      <td>75002.0</td>\n      <td>PARIS 02</td>\n      <td>...</td>\n      <td>NaN</td>\n      <td>NaN</td>\n      <td>NaN</td>\n      <td>3</td>\n      <td>4.0</td>\n      <td>Local industriel. commercial ou assimilé</td>\n      <td>100.0</td>\n      <td>0.0</td>\n      <td>NaN</td>\n      <td>NaN</td>\n    </tr>\n    <tr>\n      <th>2535790</th>\n      <td>30/12/2019</td>\n      <td>Vente</td>\n      <td>1400000,00</td>\n      <td>24.0</td>\n      <td>NaN</td>\n      <td>RUE</td>\n      <td>8752</td>\n      <td>SAINT SAUVEUR</td>\n      <td>75002.0</td>\n      <td>PARIS 02</td>\n      <td>...</td>\n      <td>NaN</td>\n      <td>NaN</td>\n      <td>NaN</td>\n      <td>2</td>\n      <td>2.0</td>\n      <td>Appartement</td>\n      <td>97.0</td>\n      <td>3.0</td>\n      <td>NaN</td>\n      <td>NaN</td>\n    </tr>\n  </tbody>\n</table>\n<p>2535791 rows × 33 columns</p>\n</div>"
     },
     "metadata": {},
     "execution_count": 5
    }
   ],
   "source": [
    "csv"
   ]
  },
  {
   "cell_type": "code",
   "execution_count": 8,
   "metadata": {},
   "outputs": [
    {
     "output_type": "error",
     "ename": "ValueError",
     "evalue": "x and y must be the same size",
     "traceback": [
      "\u001b[1;31m---------------------------------------------------------------------------\u001b[0m",
      "\u001b[1;31mValueError\u001b[0m                                Traceback (most recent call last)",
      "\u001b[1;32m&lt;ipython-input-8-4b5512972eb8&gt;\u001b[0m in \u001b[0;36m&lt;module&gt;\u001b[1;34m\u001b[0m\n\u001b[1;32m----&gt; 1\u001b[1;33m \u001b[0mplt\u001b[0m\u001b[1;33m.\u001b[0m\u001b[0mscatter\u001b[0m\u001b[1;33m(\u001b[0m\u001b[0mstr\u001b[0m\u001b[1;33m(\u001b[0m\u001b[0mcsv\u001b[0m\u001b[1;33m[\u001b[0m\u001b[1;34m&quot;Valeur fonciere&quot;\u001b[0m\u001b[1;33m]\u001b[0m\u001b[1;33m)\u001b[0m\u001b[1;33m,\u001b[0m \u001b[0mcsv\u001b[0m\u001b[1;33m[\u001b[0m\u001b[1;34m&quot;Surface reelle bati&quot;\u001b[0m\u001b[1;33m]\u001b[0m\u001b[1;33m)\u001b[0m\u001b[1;33m\u001b[0m\u001b[1;33m\u001b[0m\u001b[0m\n\u001b[0m\u001b[0;32m      2\u001b[0m \u001b[0mplt\u001b[0m\u001b[1;33m.\u001b[0m\u001b[0mshow\u001b[0m\u001b[1;33m(\u001b[0m\u001b[1;33m)\u001b[0m\u001b[1;33m\u001b[0m\u001b[1;33m\u001b[0m\u001b[0m\n",
      "\u001b[1;32mD:\\Anaconda\\envs\\Immothep\\lib\\site-packages\\matplotlib\\pyplot.py\u001b[0m in \u001b[0;36mscatter\u001b[1;34m(x, y, s, c, marker, cmap, norm, vmin, vmax, alpha, linewidths, verts, edgecolors, plotnonfinite, data, **kwargs)\u001b[0m\n\u001b[0;32m   2872\u001b[0m         \u001b[0mverts\u001b[0m\u001b[1;33m=\u001b[0m\u001b[0mcbook\u001b[0m\u001b[1;33m.\u001b[0m\u001b[0mdeprecation\u001b[0m\u001b[1;33m.\u001b[0m\u001b[0m_deprecated_parameter\u001b[0m\u001b[1;33m,\u001b[0m\u001b[1;33m\u001b[0m\u001b[1;33m\u001b[0m\u001b[0m\n\u001b[0;32m   2873\u001b[0m         edgecolors=None, *, plotnonfinite=False, data=None, **kwargs):\n\u001b[1;32m-&gt; 2874\u001b[1;33m     __ret = gca().scatter(\n\u001b[0m\u001b[0;32m   2875\u001b[0m         \u001b[0mx\u001b[0m\u001b[1;33m,\u001b[0m \u001b[0my\u001b[0m\u001b[1;33m,\u001b[0m \u001b[0ms\u001b[0m\u001b[1;33m=\u001b[0m\u001b[0ms\u001b[0m\u001b[1;33m,\u001b[0m \u001b[0mc\u001b[0m\u001b[1;33m=\u001b[0m\u001b[0mc\u001b[0m\u001b[1;33m,\u001b[0m \u001b[0mmarker\u001b[0m\u001b[1;33m=\u001b[0m\u001b[0mmarker\u001b[0m\u001b[1;33m,\u001b[0m \u001b[0mcmap\u001b[0m\u001b[1;33m=\u001b[0m\u001b[0mcmap\u001b[0m\u001b[1;33m,\u001b[0m \u001b[0mnorm\u001b[0m\u001b[1;33m=\u001b[0m\u001b[0mnorm\u001b[0m\u001b[1;33m,\u001b[0m\u001b[1;33m\u001b[0m\u001b[1;33m\u001b[0m\u001b[0m\n\u001b[0;32m   2876\u001b[0m         \u001b[0mvmin\u001b[0m\u001b[1;33m=\u001b[0m\u001b[0mvmin\u001b[0m\u001b[1;33m,\u001b[0m \u001b[0mvmax\u001b[0m\u001b[1;33m=\u001b[0m\u001b[0mvmax\u001b[0m\u001b[1;33m,\u001b[0m \u001b[0malpha\u001b[0m\u001b[1;33m=\u001b[0m\u001b[0malpha\u001b[0m\u001b[1;33m,\u001b[0m \u001b[0mlinewidths\u001b[0m\u001b[1;33m=\u001b[0m\u001b[0mlinewidths\u001b[0m\u001b[1;33m,\u001b[0m\u001b[1;33m\u001b[0m\u001b[1;33m\u001b[0m\u001b[0m\n",
      "\u001b[1;32mD:\\Anaconda\\envs\\Immothep\\lib\\site-packages\\matplotlib\\__init__.py\u001b[0m in \u001b[0;36minner\u001b[1;34m(ax, data, *args, **kwargs)\u001b[0m\n\u001b[0;32m   1436\u001b[0m     \u001b[1;32mdef\u001b[0m \u001b[0minner\u001b[0m\u001b[1;33m(\u001b[0m\u001b[0max\u001b[0m\u001b[1;33m,\u001b[0m \u001b[1;33m*\u001b[0m\u001b[0margs\u001b[0m\u001b[1;33m,\u001b[0m \u001b[0mdata\u001b[0m\u001b[1;33m=\u001b[0m\u001b[1;32mNone\u001b[0m\u001b[1;33m,\u001b[0m \u001b[1;33m**\u001b[0m\u001b[0mkwargs\u001b[0m\u001b[1;33m)\u001b[0m\u001b[1;33m:\u001b[0m\u001b[1;33m\u001b[0m\u001b[1;33m\u001b[0m\u001b[0m\n\u001b[0;32m   1437\u001b[0m         \u001b[1;32mif\u001b[0m \u001b[0mdata\u001b[0m \u001b[1;32mis\u001b[0m \u001b[1;32mNone\u001b[0m\u001b[1;33m:\u001b[0m\u001b[1;33m\u001b[0m\u001b[1;33m\u001b[0m\u001b[0m\n\u001b[1;32m-&gt; 1438\u001b[1;33m             \u001b[1;32mreturn\u001b[0m \u001b[0mfunc\u001b[0m\u001b[1;33m(\u001b[0m\u001b[0max\u001b[0m\u001b[1;33m,\u001b[0m \u001b[1;33m*\u001b[0m\u001b[0mmap\u001b[0m\u001b[1;33m(\u001b[0m\u001b[0msanitize_sequence\u001b[0m\u001b[1;33m,\u001b[0m \u001b[0margs\u001b[0m\u001b[1;33m)\u001b[0m\u001b[1;33m,\u001b[0m \u001b[1;33m**\u001b[0m\u001b[0mkwargs\u001b[0m\u001b[1;33m)\u001b[0m\u001b[1;33m\u001b[0m\u001b[1;33m\u001b[0m\u001b[0m\n\u001b[0m\u001b[0;32m   1439\u001b[0m \u001b[1;33m\u001b[0m\u001b[0m\n\u001b[0;32m   1440\u001b[0m         \u001b[0mbound\u001b[0m \u001b[1;33m=\u001b[0m \u001b[0mnew_sig\u001b[0m\u001b[1;33m.\u001b[0m\u001b[0mbind\u001b[0m\u001b[1;33m(\u001b[0m\u001b[0max\u001b[0m\u001b[1;33m,\u001b[0m \u001b[1;33m*\u001b[0m\u001b[0margs\u001b[0m\u001b[1;33m,\u001b[0m \u001b[1;33m**\u001b[0m\u001b[0mkwargs\u001b[0m\u001b[1;33m)\u001b[0m\u001b[1;33m\u001b[0m\u001b[1;33m\u001b[0m\u001b[0m\n",
      "\u001b[1;32mD:\\Anaconda\\envs\\Immothep\\lib\\site-packages\\matplotlib\\cbook\\deprecation.py\u001b[0m in \u001b[0;36mwrapper\u001b[1;34m(*inner_args, **inner_kwargs)\u001b[0m\n\u001b[0;32m    409\u001b[0m                          \u001b[1;32melse\u001b[0m \u001b[0mdeprecation_addendum\u001b[0m\u001b[1;33m,\u001b[0m\u001b[1;33m\u001b[0m\u001b[1;33m\u001b[0m\u001b[0m\n\u001b[0;32m    410\u001b[0m                 **kwargs)\n\u001b[1;32m--&gt; 411\u001b[1;33m         \u001b[1;32mreturn\u001b[0m \u001b[0mfunc\u001b[0m\u001b[1;33m(\u001b[0m\u001b[1;33m*\u001b[0m\u001b[0minner_args\u001b[0m\u001b[1;33m,\u001b[0m \u001b[1;33m**\u001b[0m\u001b[0minner_kwargs\u001b[0m\u001b[1;33m)\u001b[0m\u001b[1;33m\u001b[0m\u001b[1;33m\u001b[0m\u001b[0m\n\u001b[0m\u001b[0;32m    412\u001b[0m \u001b[1;33m\u001b[0m\u001b[0m\n\u001b[0;32m    413\u001b[0m     \u001b[1;32mreturn\u001b[0m \u001b[0mwrapper\u001b[0m\u001b[1;33m\u001b[0m\u001b[1;33m\u001b[0m\u001b[0m\n",
      "\u001b[1;32mD:\\Anaconda\\envs\\Immothep\\lib\\site-packages\\matplotlib\\axes\\_axes.py\u001b[0m in \u001b[0;36mscatter\u001b[1;34m(self, x, y, s, c, marker, cmap, norm, vmin, vmax, alpha, linewidths, verts, edgecolors, plotnonfinite, **kwargs)\u001b[0m\n\u001b[0;32m   4439\u001b[0m         \u001b[0my\u001b[0m \u001b[1;33m=\u001b[0m \u001b[0mnp\u001b[0m\u001b[1;33m.\u001b[0m\u001b[0mma\u001b[0m\u001b[1;33m.\u001b[0m\u001b[0mravel\u001b[0m\u001b[1;33m(\u001b[0m\u001b[0my\u001b[0m\u001b[1;33m)\u001b[0m\u001b[1;33m\u001b[0m\u001b[1;33m\u001b[0m\u001b[0m\n\u001b[0;32m   4440\u001b[0m         \u001b[1;32mif\u001b[0m \u001b[0mx\u001b[0m\u001b[1;33m.\u001b[0m\u001b[0msize\u001b[0m \u001b[1;33m!=\u001b[0m \u001b[0my\u001b[0m\u001b[1;33m.\u001b[0m\u001b[0msize\u001b[0m\u001b[1;33m:\u001b[0m\u001b[1;33m\u001b[0m\u001b[1;33m\u001b[0m\u001b[0m\n\u001b[1;32m-&gt; 4441\u001b[1;33m             \u001b[1;32mraise\u001b[0m \u001b[0mValueError\u001b[0m\u001b[1;33m(\u001b[0m\u001b[1;34m&quot;x and y must be the same size&quot;\u001b[0m\u001b[1;33m)\u001b[0m\u001b[1;33m\u001b[0m\u001b[1;33m\u001b[0m\u001b[0m\n\u001b[0m\u001b[0;32m   4442\u001b[0m \u001b[1;33m\u001b[0m\u001b[0m\n\u001b[0;32m   4443\u001b[0m         \u001b[1;32mif\u001b[0m \u001b[0ms\u001b[0m \u001b[1;32mis\u001b[0m \u001b[1;32mNone\u001b[0m\u001b[1;33m:\u001b[0m\u001b[1;33m\u001b[0m\u001b[1;33m\u001b[0m\u001b[0m\n",
      "\u001b[1;31mValueError\u001b[0m: x and y must be the same size"
     ]
    }
   ],
   "source": [
    "plt.scatter(csv[\"Valeur fonciere\"], csv[\"Surface reelle bati\"])\n",
    "plt.show()"
   ]
  },
  {
   "cell_type": "code",
   "execution_count": null,
   "metadata": {},
   "outputs": [],
   "source": []
  }
 ]
}